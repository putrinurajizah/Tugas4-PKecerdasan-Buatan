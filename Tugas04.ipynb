{
  "nbformat": 4,
  "nbformat_minor": 0,
  "metadata": {
    "colab": {
      "provenance": []
    },
    "kernelspec": {
      "name": "python3",
      "display_name": "Python 3"
    },
    "language_info": {
      "name": "python"
    }
  },
  "cells": [
    {
      "cell_type": "code",
      "execution_count": null,
      "metadata": {
        "id": "YBmmkvCJS-lL"
      },
      "outputs": [],
      "source": [
        "girls(mary).\n",
        "girls(lisa).\n",
        "girls(amy).\n",
        "girls(karen).\n",
        "boy(david).\n",
        "boy(jhon).\n",
        "boy(ray).\n",
        "boy(jack).\n",
        "boy(peter).\n",
        "\n",
        "pasangan(david,amy).\n",
        "pasangan(jack,karen).\n",
        "pasangan(jhon,susan).\n",
        "\n",
        "sodara(liza,jhon).\n",
        "sodara(susan,ray).\n",
        "sodara(peter,mary).\n",
        "\n",
        "kakek(david,jhon).\n",
        "nenek(amy,karen).\n",
        "anakL(jhon,ray).\n",
        "anakP(liza,susan).\n",
        "\n",
        "is_boy(X) :- boy(X).\n",
        "is_girls(Y) :- girls(Y).\n",
        "is_pasangan(X,Y) :- pasangan(X,Y).\n",
        "is_childboy(X,Y) :- anakL(X,Y).\n",
        "is_childgirls(X,Y) :- anakP(X,Y).\n",
        "is_sodara(X,Y) :- sodara(X,Y).\n",
        "is_kakek(X1,X2) :- kakek(X2,X1).\n",
        "is_nenek(Y2,Y1) :- nenek(Y1,Y2).\n",
        "not(sah(menikah(X,Y))):- is_sodara(X,Y).\n",
        "sah(menikah(X,Y)) :- is_pasangan(X,Y).\n"
      ]
    }
  ]
}